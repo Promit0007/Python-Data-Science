{
  "nbformat": 4,
  "nbformat_minor": 0,
  "metadata": {
    "colab": {
      "provenance": []
    },
    "kernelspec": {
      "name": "python3",
      "display_name": "Python 3"
    },
    "language_info": {
      "name": "python"
    }
  },
  "cells": [
    {
      "cell_type": "code",
      "execution_count": 1,
      "metadata": {
        "colab": {
          "base_uri": "https://localhost:8080/"
        },
        "id": "sX5IVTvfNmJs",
        "outputId": "602f4fe4-5691-47ea-a11b-5ad21bfc03c2"
      },
      "outputs": [
        {
          "output_type": "stream",
          "name": "stdout",
          "text": [
            "[1, 'Multiple of 2', 3, 'Multiple of 2', 5, 'Multiple of 2', 7, 'Multiple of 2', 9, 'Multiple of 2']\n"
          ]
        }
      ],
      "source": [
        "def classify_numbers_multiple_of_2(n):\n",
        "\n",
        "  numbers = list(range(1, n + 1))\n",
        "  classified_numbers = []\n",
        "\n",
        "  for number in numbers:\n",
        "    if number % 2 == 0:\n",
        "      classified_numbers.append(\"Multiple of 2\")\n",
        "    else:\n",
        "      classified_numbers.append(number)\n",
        "\n",
        "  return classified_numbers\n",
        "\n",
        "\n",
        "n = 10\n",
        "result = classify_numbers_multiple_of_2(n)\n",
        "print(result)\n",
        "\n"
      ]
    },
    {
      "cell_type": "code",
      "source": [
        "def classify_numbers_even(n):\n",
        "\n",
        "  numbers = list(range(1, n + 1))\n",
        "  classified_numbers = []\n",
        "\n",
        "  for number in numbers:\n",
        "    if number % 2 == 0:\n",
        "      classified_numbers.append(\"Even\")\n",
        "    else:\n",
        "      classified_numbers.append(number)\n",
        "\n",
        "  return classified_numbers\n",
        "\n",
        "n = 10\n",
        "result = classify_numbers(n)\n",
        "print(result)"
      ],
      "metadata": {
        "colab": {
          "base_uri": "https://localhost:8080/",
          "height": 193
        },
        "id": "xaYdGtr7Om3g",
        "outputId": "4dbd7f85-6220-441e-df10-3d90a77a5846"
      },
      "execution_count": 10,
      "outputs": [
        {
          "output_type": "error",
          "ename": "NameError",
          "evalue": "name 'classify_numbers' is not defined",
          "traceback": [
            "\u001b[0;31m---------------------------------------------------------------------------\u001b[0m",
            "\u001b[0;31mNameError\u001b[0m                                 Traceback (most recent call last)",
            "\u001b[0;32m<ipython-input-10-a5346b3092b5>\u001b[0m in \u001b[0;36m<cell line: 15>\u001b[0;34m()\u001b[0m\n\u001b[1;32m     13\u001b[0m \u001b[0;34m\u001b[0m\u001b[0m\n\u001b[1;32m     14\u001b[0m \u001b[0mn\u001b[0m \u001b[0;34m=\u001b[0m \u001b[0;36m10\u001b[0m\u001b[0;34m\u001b[0m\u001b[0;34m\u001b[0m\u001b[0m\n\u001b[0;32m---> 15\u001b[0;31m \u001b[0mresult\u001b[0m \u001b[0;34m=\u001b[0m \u001b[0mclassify_numbers\u001b[0m\u001b[0;34m(\u001b[0m\u001b[0mn\u001b[0m\u001b[0;34m)\u001b[0m\u001b[0;34m\u001b[0m\u001b[0;34m\u001b[0m\u001b[0m\n\u001b[0m\u001b[1;32m     16\u001b[0m \u001b[0mprint\u001b[0m\u001b[0;34m(\u001b[0m\u001b[0mresult\u001b[0m\u001b[0;34m)\u001b[0m\u001b[0;34m\u001b[0m\u001b[0;34m\u001b[0m\u001b[0m\n",
            "\u001b[0;31mNameError\u001b[0m: name 'classify_numbers' is not defined"
          ]
        }
      ]
    },
    {
      "cell_type": "code",
      "source": [
        "def classify_numbers_multiple_of_5(n):\n",
        "\n",
        "  numbers = list(range(1, n + 1))\n",
        "  classified_numbers = []\n",
        "\n",
        "  for number in numbers:\n",
        "    if number % 2 == 0 and number % 5 == 0:\n",
        "      classified_numbers.append(\"Multiple of 5\")\n",
        "    else:\n",
        "      classified_numbers.append(number)\n",
        "\n",
        "  return classified_numbers\n",
        "\n",
        "\n",
        "n = 20\n",
        "result = classify_numbers_multiple_of_5(n)\n",
        "print(result)"
      ],
      "metadata": {
        "colab": {
          "base_uri": "https://localhost:8080/"
        },
        "id": "a_e-wYPAOvBu",
        "outputId": "5512712f-0943-4999-fb24-87f45657c866"
      },
      "execution_count": 3,
      "outputs": [
        {
          "output_type": "stream",
          "name": "stdout",
          "text": [
            "[1, 2, 3, 4, 5, 6, 7, 8, 9, 'Multiple of 5', 11, 12, 13, 14, 15, 16, 17, 18, 19, 'Multiple of 5']\n"
          ]
        }
      ]
    },
    {
      "cell_type": "code",
      "source": [
        "def classify_numbers_odd(n):\n",
        "\n",
        "  numbers = list(range(1, n + 1))\n",
        "  classified_numbers = []\n",
        "\n",
        "  for number in numbers:\n",
        "    if number % 2 != 0:\n",
        "      classified_numbers.append(\"ODD\")\n",
        "    else:\n",
        "      classified_numbers.append(number)\n",
        "\n",
        "  return classified_numbers\n",
        "\n",
        "\n",
        "n = 10\n",
        "result = classify_numbers_odd(n)\n",
        "print(result)\n"
      ],
      "metadata": {
        "colab": {
          "base_uri": "https://localhost:8080/"
        },
        "id": "UsdppmqLO0cO",
        "outputId": "e37d8f45-7445-4f00-ee4f-c2df73349a42"
      },
      "execution_count": 4,
      "outputs": [
        {
          "output_type": "stream",
          "name": "stdout",
          "text": [
            "['ODD', 2, 'ODD', 4, 'ODD', 6, 'ODD', 8, 'ODD', 10]\n"
          ]
        }
      ]
    }
  ]
}